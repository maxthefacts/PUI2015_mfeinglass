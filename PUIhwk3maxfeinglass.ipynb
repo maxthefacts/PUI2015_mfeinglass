{
 "cells": [
  {
   "cell_type": "code",
   "execution_count": null,
   "metadata": {
    "collapsed": false
   },
   "outputs": [],
   "source": [
    "import os\n",
    "import numpy as np\n",
    "import pandas as pd\n",
    "import matplotlib.pyplot as plt\n",
    "from scipy.optimize import curve_fit, minimize\n",
    "\n",
    "%pylab inline\n",
    "#Create Random Seed for reproducablity\n",
    "np.random.seed(1984)"
   ]
  },
  {
   "cell_type": "code",
   "execution_count": null,
   "metadata": {
    "collapsed": false
   },
   "outputs": [],
   "source": [
    "#Create a series, 100 items long, of random inetergers between 10 and 2000\n",
    "N =  np.random.random_integers(10,2000,100,)\n",
    "mean = 5\n",
    "\n",
    "#Initalize lists for each distribtuion\n",
    "normalmeanlist = []\n",
    "normalNlist = []\n",
    "\n",
    "poissonmeanlist =[]\n",
    "poissonNlist=[]\n",
    "\n",
    "binomialmeanlist =[]\n",
    "binomialNlist=[]\n",
    "\n",
    "chisquaredmeanlist = []\n",
    "chisquaredNlist = []\n",
    "\n",
    "lognormalmeanlist = []\n",
    "lognormalNlist=[]\n",
    "\n",
    "exponentialmeanlist = []\n",
    "exponentialNlist =[]\n",
    "\n",
    "#For each N in our 100 unit long list of sample spaces\n",
    "for j in N:\n",
    "    #calculate a series of random numbers, generated from the sample space of the normal distribution, the size will the step\n",
    "    #through the N array\n",
    "    normal = np.random.normal(mean,1,j)\n",
    "    #Find the mean of the random array just created\n",
    "    normalmean = normal.mean()\n",
    "    #Record the sample size of the array\n",
    "    normalN = j\n",
    "    #Store the mean in a list of means\n",
    "    normalmeanlist.append(normalmean)\n",
    "    #Store the sample size in a list of sample sizes\n",
    "    normalNlist.append(normalN)\n",
    "    \n",
    "    #Repear for the other distirubtions\n",
    "    poisson = np.random.poisson(mean,j)\n",
    "    poissonmean = poisson.mean()\n",
    "    poissonN = j\n",
    "    poissonmeanlist.append(poissonmean)\n",
    "    poissonNlist.append(poissonN)\n",
    "        \n",
    "    binomial = np.random.binomial(mean/.5,.5,j)\n",
    "    binomialmean = binomial.mean()\n",
    "    binomialN = j\n",
    "    binomialmeanlist.append(binomialmean)\n",
    "    binomialNlist.append(binomialN)\n",
    "        \n",
    "    chisquared = np.random.chisquare(mean,j)\n",
    "    chisquaredmean = chisquared.mean()\n",
    "    chisquaredN = j\n",
    "    chisquaredmeanlist.append(chisquaredmean)\n",
    "    chisquaredNlist.append(chisquaredN)\n",
    "        \n",
    "    lognormal = np.random.lognormal(2.71**(mean+(1/2)), 1, j)\n",
    "    lognormalmean = lognormal.mean()\n",
    "    lognormalN = j\n",
    "    lognormalmeanlist.append(lognormalmean)\n",
    "    lognormalNlist.append(lognormalN)\n",
    "        \n",
    "    exponential = np.random.exponential(mean, j)\n",
    "    exponentialmean = exponential.mean()\n",
    "    exponentialN = j\n",
    "    exponentialmeanlist.append(exponentialmean)\n",
    "    exponentialNlist.append(exponentialN)    "
   ]
  },
  {
   "cell_type": "code",
   "execution_count": null,
   "metadata": {
    "collapsed": false,
    "scrolled": false
   },
   "outputs": [],
   "source": [
    "plt.figure(figsize=(8, 20), dpi=140)        \n",
    "\n",
    "subplot(321)\n",
    "normalplot = plt.scatter(normalmeanlist, normalNlist)\n",
    "plt.xlim(4, 6)\n",
    "plt.ylim(0,2000)\n",
    "plt.xlabel('Mean')\n",
    "plt.ylabel('Sample Size')\n",
    "plt.title('Normal Distribution')\n",
    "\n",
    "subplot(322)\n",
    "poissonplot = plt.scatter(poissonmeanlist, poissonNlist)\n",
    "plt.xlim(4, 6)\n",
    "plt.ylim(0,2000)\n",
    "plt.xlabel('Mean')\n",
    "plt.ylabel('Sample Size')\n",
    "plt.title('Poisson Distribution')\n",
    "\n",
    "subplot(323)\n",
    "binomial = plt.scatter(binomialmeanlist, binomialNlist)\n",
    "#plt.xlim(-1, 1)\n",
    "#plt.ylim(0,2000)\n",
    "#plt.xticks([-.008, -.004, 0, .004, .008])\n",
    "plt.xlabel('Mean')\n",
    "plt.ylabel('Sample Size')\n",
    "plt.title('Binomial Distribution')\n",
    "\n",
    "subplot(324)\n",
    "chisquared = plt.scatter(chisquaredmeanlist, chisquaredNlist)\n",
    "#plt.xlim(4, 6)\n",
    "plt.ylim(0,2000)\n",
    "plt.xlabel('Mean')\n",
    "plt.ylabel('Sample Size')\n",
    "plt.title('Chi Squared Distribution')\n",
    "\n",
    "subplot(325)\n",
    "lognormalplot = plt.scatter(lognormalmeanlist, lognormalNlist)\n",
    "#plt.xlim(4, 6)\n",
    "plt.ylim(0,2000)\n",
    "plt.xlabel('Mean')\n",
    "plt.ylabel('Sample Size')\n",
    "plt.title('Lognormal Distribution')\n",
    "\n",
    "subplot(326)\n",
    "exponentialplot = plt.scatter(exponentialmeanlist, exponentialNlist)\n",
    "plt.ylim(0,2000)\n",
    "plt.xlim(4, 6)\n",
    "plt.xlabel('Mean')\n",
    "plt.ylabel('Sample Size')\n",
    "plt.title('Exponential Distribution')"
   ]
  },
  {
   "cell_type": "markdown",
   "metadata": {
    "collapsed": true
   },
   "source": [
    "The normal distribution mean does not vary much by sample size.  There is slight scatter at the very low sample sizes, but once we get above N=30 the mean is pretty close to 5, the expected value.  This is due the central limit theorem “kicking in” ~ N=30. \n",
    "\n",
    "The Poission Distribution shows the same tendency but has a much higher amount of scatter at lower sample sizes.  The Poission Distribution also tightens up after the central limit theorm becomes apparent, but contains a larger ‘spray’ of means, even at high sample sizes, than the normal distribution.\n",
    "\n",
    "The Chi Square distribution shows even more variation still.  At low sample sizes it can vary from the ‘true’ mean by up to 0.5, or 10%.  This shows that the distribution is very sensitive to sample size.  Since the mean is equal to the number of degrees of freedom, there is a big switch in the change of shape of the distribution when the number of degrees of freedom is greater or equal to the mean.\n",
    "\n",
    "Both the lognormal and exponential distributions are variations on the normal distribution.  They are scaled differently but show similar behavior.  Because the amplify the values of the normal distribution, error in low sample sizes is also amplified causing a bigger spread in values. \n"
   ]
  },
  {
   "cell_type": "code",
   "execution_count": null,
   "metadata": {
    "collapsed": false
   },
   "outputs": [],
   "source": [
    "dist = 6\n",
    "bins = 20\n",
    "alpha = .2\n",
    "\n",
    "plt.figure(figsize=(16, 8), dpi=140) \n",
    "plt.xlim(4, 6)\n",
    "plt.ylim(0,20)\n",
    "plt.hist(normalmeanlist, bins=20, histtype='stepfilled', normed=True, color='violet', alpha = 1, label='Normal')\n",
    "plt.hist(poissonmeanlist, bins=20, histtype='stepfilled', normed=True, color='blue', alpha=.8 , label='Poisson')\n",
    "plt.hist(binomialmeanlist, bins=20, histtype='stepfilled', normed=True, color='green', alpha=.6, label='Binomal')\n",
    "plt.hist(chisquaredmeanlist, bins=20, histtype='stepfilled', normed=True, color='yellow', alpha=.4, label='Chi Squared')\n",
    "plt.hist(lognormalmeanlist, bins=20, histtype='stepfilled', normed=True, color='orange', alpha=.2, label='Log Normal')\n",
    "plt.hist(exponentialmeanlist, bins=20, histtype='stepfilled', normed=True, color='red', alpha=.2, label='Exponential')\n",
    "\n",
    "\n",
    "plt.title(\"Historgram of Distributions Sample Means\")\n",
    "plt.xlabel(\"Mean (mew = 5)\")\n",
    "plt.ylabel(\"Number of Occurances\")\n",
    "plt.legend()\n",
    "plt.show()"
   ]
  },
  {
   "cell_type": "code",
   "execution_count": null,
   "metadata": {
    "collapsed": true
   },
   "outputs": [],
   "source": []
  }
 ],
 "metadata": {
  "kernelspec": {
   "display_name": "Python 2",
   "language": "python",
   "name": "python2"
  },
  "language_info": {
   "codemirror_mode": {
    "name": "ipython",
    "version": 2
   },
   "file_extension": ".py",
   "mimetype": "text/x-python",
   "name": "python",
   "nbconvert_exporter": "python",
   "pygments_lexer": "ipython2",
   "version": "2.7.10"
  }
 },
 "nbformat": 4,
 "nbformat_minor": 0
}
