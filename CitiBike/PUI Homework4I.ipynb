{
 "cells": [
  {
   "cell_type": "markdown",
   "metadata": {},
   "source": [
    "# PUI Homework 4\n",
    "## Part I\n",
    "### By Max Feinglass"
   ]
  },
  {
   "cell_type": "code",
   "execution_count": null,
   "metadata": {
    "collapsed": false
   },
   "outputs": [],
   "source": [
    "import requests\n",
    "import pandas as pd\n",
    "import zipfile\n",
    "import StringIO\n",
    "import scipy.stats as sci\n",
    "import numpy as np\n",
    "\n",
    "np.random.seed(1984)\n"
   ]
  },
  {
   "cell_type": "markdown",
   "metadata": {},
   "source": [
    "Use: age of bikers for male and age of bikers for female gender for whichever month, or set of months you choose. \n",
    "test the correlation/independence of the 2 samples using: \n",
    "Pearson’s test (answer: are the 2 samples correlated?)\n",
    "Spearman’s test (answer: are the 2 samples correlated?)\n",
    "K-S test (answer: are the samples likely to come from the same parent distribution?) \n",
    "State in words what the tests tell you.\n",
    "\n",
    "Use: age of bikers during the day and during the night hours for the same sample .\n",
    "Test the correlation/independence of the 2 samples using the same tests.\n",
    "State in words what the tests tell you."
   ]
  },
  {
   "cell_type": "markdown",
   "metadata": {},
   "source": [
    "### Load Data Frame from Web for July, 2015"
   ]
  },
  {
   "cell_type": "code",
   "execution_count": null,
   "metadata": {
    "collapsed": false
   },
   "outputs": [],
   "source": [
    "#Load September 2014 data in Pandas dataframe import requests, zipfile, StringIO \n",
    "r = requests.get('https://s3.amazonaws.com/tripdata/201507-citibike-tripdata.zip') \n",
    "z = zipfile.ZipFile(StringIO.StringIO(r.content)) \n",
    "df = pd.read_csv(z.open('201507-citibike-tripdata.csv'), parse_dates=['starttime'])\n"
   ]
  },
  {
   "cell_type": "markdown",
   "metadata": {},
   "source": [
    "## Throw Out Unreliable Data"
   ]
  },
  {
   "cell_type": "code",
   "execution_count": null,
   "metadata": {
    "collapsed": false
   },
   "outputs": [],
   "source": [
    "# Get Range for Trip Duration Outliers\n",
    "tripstd = df.tripduration.std()\n",
    "tripmean = df.tripduration.mean()\n",
    "# Low limit is 2 minutes\n",
    "llimit = 120\n",
    "# High limit is 2 STD from mean\n",
    "hlimit = tripmean + (2 * tripstd)"
   ]
  },
  {
   "cell_type": "code",
   "execution_count": null,
   "metadata": {
    "collapsed": false
   },
   "outputs": [],
   "source": [
    "# Throw out trips of less than 2 minutes and very long trips (>2 STD from mean)\n",
    "df['ageM'] = df['birth year'][(df['tripduration']>=llimit) & (df['tripduration']<=hlimit)]\n",
    "df['ageW'] = df['birth year'][(df['tripduration']>=llimit) & (df['tripduration']<=hlimit)]\n",
    "\n",
    "df['night'] = df['birth year'][(df['tripduration']>=llimit) & (df['tripduration']<=hlimit)]\n",
    "df['day'] = df['birth year'][(df['tripduration']>=llimit) & (df['tripduration']<=hlimit)]\n"
   ]
  },
  {
   "cell_type": "code",
   "execution_count": null,
   "metadata": {
    "collapsed": true
   },
   "outputs": [],
   "source": [
    "# Throw out ages that are greater than 70 and lower than 10\n",
    "df['ageM'] = df['ageM'][(df['birth year']<= 2005) & (df['birth year']>= 1935)]\n",
    "df['ageW'] = df['ageM'][(df['birth year']<= 2005) & (df['birth year']>= 1935)]\n",
    "\n",
    "df['night'] = df['night'][(df['birth year']<= 2005) & (df['birth year']>= 1935)]\n",
    "df['day'] = df['day'][(df['birth year']<= 2005) & (df['birth year']>= 1935)]\n"
   ]
  },
  {
   "cell_type": "code",
   "execution_count": null,
   "metadata": {
    "collapsed": false
   },
   "outputs": [],
   "source": [
    "# Create age of gender columns\n",
    "df['ageM'] = 2015-df['birth year'][(df['usertype'] == 'Subscriber') & (df['gender'] == 1)]\n",
    "df['ageW'] = 2015-df['birth year'][(df['usertype'] == 'Subscriber') & (df['gender'] == 2)]\n",
    "\n",
    "df['night'] = 2015-df['birth year'][(df['usertype'] == 'Subscriber') & ((df.starttime.dt.hour <= 5) | (df.starttime.dt.hour >= 8+12))] \n",
    "df['day'] = 2015-df['birth year'][(df['usertype'] == 'Subscriber') & ((df.starttime.dt.hour >= 5) & (df.starttime.dt.hour <= 8+12))]"
   ]
  },
  {
   "cell_type": "markdown",
   "metadata": {},
   "source": [
    "### Drop out NaN values and make array's the same size"
   ]
  },
  {
   "cell_type": "code",
   "execution_count": null,
   "metadata": {
    "collapsed": false
   },
   "outputs": [],
   "source": [
    "men = df.ageM.dropna()\n",
    "women = df.ageW.dropna()\n",
    "\n",
    "night = df.night.dropna()\n",
    "day = df.day.dropna()\n",
    "\n",
    "menselect = np.random.choice(men, len(women), 'false')\n",
    "womenselect = np.random.choice(men, len(women), 'false')\n",
    "\n",
    "nightselect = np.random.choice(night, len(night), 'false')\n",
    "dayselect = np.random.choice(day, len(night), 'false')\n",
    "\n",
    "print nightselect\n",
    "print dayselect\n",
    "print len(nightselect), len(dayselect)\n"
   ]
  },
  {
   "cell_type": "markdown",
   "metadata": {},
   "source": [
    "### Pearson's Correlation Test of the ages of male and female bikers"
   ]
  },
  {
   "cell_type": "code",
   "execution_count": null,
   "metadata": {
    "collapsed": false,
    "scrolled": true
   },
   "outputs": [],
   "source": [
    "sci.stats.pearsonr(menselect, womenselect)"
   ]
  },
  {
   "cell_type": "markdown",
   "metadata": {},
   "source": [
    "#### The person coefficient test is a conjunction of a “simple” correlation between two variables and then a test of the probability that this correlation arose from stochastic processes.  Here, the correlation is .001, which is very close to zero.  This is expected as there is no obvious reason the age of men is connected to the age of women.  The P-value, of .406 percent, is a sense that it is very possible that the result arose from stochastic chance and therefore should be taken with ‘a grain of salt’."
   ]
  },
  {
   "cell_type": "markdown",
   "metadata": {},
   "source": [
    "### Spearman's Test"
   ]
  },
  {
   "cell_type": "code",
   "execution_count": null,
   "metadata": {
    "collapsed": false
   },
   "outputs": [],
   "source": [
    "sci.stats.spearmanr(menselect, womenselect)"
   ]
  },
  {
   "cell_type": "markdown",
   "metadata": {},
   "source": [
    "#### The Spearman test is an examination of the tendency of a value in one array to have the same sign as another variable in another array.  This tests the monotonicity of the probability density function of a distribution.  Unlike Pearson, the Spearman test checks if the relationship between the two PDFs are increasing or decreasing, even if that increase or decrease is nonlinear.  Here, there is no correlation between the variables and the chances that this result arose stochastically is relatively high."
   ]
  },
  {
   "cell_type": "markdown",
   "metadata": {},
   "source": [
    "### K-S Test"
   ]
  },
  {
   "cell_type": "code",
   "execution_count": null,
   "metadata": {
    "collapsed": false
   },
   "outputs": [],
   "source": [
    "sci.stats.ks_2samp(menselect, womenselect)"
   ]
  },
  {
   "cell_type": "markdown",
   "metadata": {},
   "source": [
    "#### The KS (Kolmogorov–Smirnov) Test compares the cumulative distribution functions of two distributions.  It is a measure of the distance between the two and can be used to asses if the two dstirubtions are of the same type.  If the K-S statistic is small or the p-value is high, then we cannot reject the hypothesis that the distributions of the two samples are the same.  Here the KS statistic is quite small and the probability is very high that the statistic arose stochastically.  Therefore we cannot say the observations are the same distribution.  "
   ]
  },
  {
   "cell_type": "markdown",
   "metadata": {},
   "source": [
    "### Pearson's Correlation Test of the ages of day and night time bikers"
   ]
  },
  {
   "cell_type": "code",
   "execution_count": null,
   "metadata": {
    "collapsed": false
   },
   "outputs": [],
   "source": [
    "sci.stats.pearsonr(dayselect, nightselect)"
   ]
  },
  {
   "cell_type": "markdown",
   "metadata": {},
   "source": [
    "#### The person coefficient test is a conjunction of a “simple” correlation between two variables and then a test of the probability that this correlation arose from stochastic processes.  Here, the correlation is .005,  is very close to zero.  The P-value, of 0.04 percent, implies you CAN make claim that day and night values are NOT correlated.  "
   ]
  },
  {
   "cell_type": "markdown",
   "metadata": {},
   "source": [
    "### Spearman's Test"
   ]
  },
  {
   "cell_type": "code",
   "execution_count": null,
   "metadata": {
    "collapsed": false
   },
   "outputs": [],
   "source": [
    "sci.stats.spearmanr(dayselect, nightselect)"
   ]
  },
  {
   "cell_type": "markdown",
   "metadata": {},
   "source": [
    "#### The Spearman test is an examination of the tendency of a value in one array to have the same sign as another variable in another array. This tests the monotonicity of the probability density function of a distribution. Unlike Pearson, the Spearman test checks if the relationship between the two PDFs are increasing or decreasing, even if that increase or decrease is nonlinear. Here, there is no correlation between the variables and the chances that this result arose stochastically is low, but still possible 10% of the time.  It the values are very close to the person values.  "
   ]
  },
  {
   "cell_type": "markdown",
   "metadata": {},
   "source": [
    "### K-S Test"
   ]
  },
  {
   "cell_type": "code",
   "execution_count": null,
   "metadata": {
    "collapsed": false
   },
   "outputs": [],
   "source": [
    "sci.stats.ks_2samp(dayselect, nightselect)"
   ]
  },
  {
   "cell_type": "markdown",
   "metadata": {},
   "source": [
    "#### If the K-S statistic is small or the p-value is high, then we cannot reject the hypothesis that the distributions of the two samples are the same.  Here the KS statistic is quite small and the probability is zero that the statistic arose stochastically.  So even though the P-value is low (these are empirical samples so they could never arrive stochastically) the low KS score implies one cannot reject the null hypothesis."
   ]
  },
  {
   "cell_type": "code",
   "execution_count": null,
   "metadata": {
    "collapsed": true
   },
   "outputs": [],
   "source": []
  }
 ],
 "metadata": {
  "kernelspec": {
   "display_name": "Python 2",
   "language": "python",
   "name": "python2"
  },
  "language_info": {
   "codemirror_mode": {
    "name": "ipython",
    "version": 2
   },
   "file_extension": ".py",
   "mimetype": "text/x-python",
   "name": "python",
   "nbconvert_exporter": "python",
   "pygments_lexer": "ipython2",
   "version": "2.7.10"
  }
 },
 "nbformat": 4,
 "nbformat_minor": 0
}
