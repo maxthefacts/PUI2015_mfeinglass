{
 "cells": [
  {
   "cell_type": "markdown",
   "metadata": {},
   "source": [
    "# PUI Homework 4\n",
    "## Part III\n",
    "### By Max Feinglass"
   ]
  },
  {
   "cell_type": "markdown",
   "metadata": {},
   "source": [
    "Test whether a gaussian model for the age distribution of CitiBike drivers is a sensible model, and **if you dare**, try and find a better fit with another distribution! Use 2 tests (from the previous exercise) to do this. Test at least 2 distributions. \n",
    "\n",
    "Divide your riders sample by seasons: Spring+Summer vs FallWinter. Test how well a normal distribution describes each sample of age distributions. Choose 2 test between: KS, Anderson Darling, Chi2, KL, or any other test for goodness of fit!  If you have other ideas let me know and, unless there is a conceptual objection to using the test you are thinking of you can use whatever you want.\n",
    "\n",
    "Choose a second functional form for the comparison (poisson, gamma……. whatever other distributions). Is it better or worse than the normal distribution fit? \n"
   ]
  },
  {
   "cell_type": "code",
   "execution_count": null,
   "metadata": {
    "collapsed": false
   },
   "outputs": [],
   "source": [
    "import requests\n",
    "import pandas as pd\n",
    "import zipfile\n",
    "import StringIO\n",
    "import scipy.stats as sci\n",
    "import numpy as np\n",
    "import os\n",
    "import pylab as pl\n",
    "import scipy.stats\n",
    "import matplotlib.pyplot as plt\n",
    "\n",
    "%pylab inline\n",
    "np.random.seed(1984)"
   ]
  },
  {
   "cell_type": "markdown",
   "metadata": {},
   "source": [
    "### First load CitiBike Data from 2015 in  January, Febuary, and May data as \"cold\" or Winter/Spring trip data\n",
    "### Then load June July and Sept 2015 data for \"hot\" or Sumer/Fall data"
   ]
  },
  {
   "cell_type": "code",
   "execution_count": null,
   "metadata": {
    "collapsed": false
   },
   "outputs": [],
   "source": [
    "#Load January 2015 data as jan\n",
    "r = requests.get('https://s3.amazonaws.com/tripdata/201501-citibike-tripdata.zip') \n",
    "z = zipfile.ZipFile(StringIO.StringIO(r.content)) \n",
    "jan = pd.read_csv(z.open('201501-citibike-tripdata.csv'), parse_dates=['starttime'])"
   ]
  },
  {
   "cell_type": "code",
   "execution_count": null,
   "metadata": {
    "collapsed": true
   },
   "outputs": [],
   "source": [
    "#Load Febuary 2015 data as feb\n",
    "r = requests.get('https://s3.amazonaws.com/tripdata/201502-citibike-tripdata.zip') \n",
    "z = zipfile.ZipFile(StringIO.StringIO(r.content)) \n",
    "feb = pd.read_csv(z.open('201502-citibike-tripdata.csv'), parse_dates=['starttime'])"
   ]
  },
  {
   "cell_type": "code",
   "execution_count": null,
   "metadata": {
    "collapsed": true
   },
   "outputs": [],
   "source": [
    "#Load May 2015 data as may\n",
    "r = requests.get('https://s3.amazonaws.com/tripdata/201505-citibike-tripdata.zip') \n",
    "z = zipfile.ZipFile(StringIO.StringIO(r.content)) \n",
    "may = pd.read_csv(z.open('201505-citibike-tripdata.csv'), parse_dates=['starttime'])"
   ]
  },
  {
   "cell_type": "code",
   "execution_count": null,
   "metadata": {
    "collapsed": true
   },
   "outputs": [],
   "source": [
    "#Load July 2015 data as July\n",
    "r = requests.get('https://s3.amazonaws.com/tripdata/201507-citibike-tripdata.zip') \n",
    "z = zipfile.ZipFile(StringIO.StringIO(r.content)) \n",
    "july = pd.read_csv(z.open('201507-citibike-tripdata.csv'), parse_dates=['starttime'])"
   ]
  },
  {
   "cell_type": "code",
   "execution_count": null,
   "metadata": {
    "collapsed": true
   },
   "outputs": [],
   "source": [
    "#Load June 2015 data as june\n",
    "r = requests.get('https://s3.amazonaws.com/tripdata/201506-citibike-tripdata.zip') \n",
    "z = zipfile.ZipFile(StringIO.StringIO(r.content)) \n",
    "june = pd.read_csv(z.open('201506-citibike-tripdata.csv'), parse_dates=['starttime'])"
   ]
  },
  {
   "cell_type": "code",
   "execution_count": null,
   "metadata": {
    "collapsed": false
   },
   "outputs": [],
   "source": [
    "#Load Septemebr 2015 data as sept\n",
    "r = requests.get('https://s3.amazonaws.com/tripdata/201509-citibike-tripdata.zip') \n",
    "z = zipfile.ZipFile(StringIO.StringIO(r.content)) \n",
    "sept = pd.read_csv(z.open('201509-citibike-tripdata.csv'), parse_dates=['starttime'])"
   ]
  },
  {
   "cell_type": "markdown",
   "metadata": {},
   "source": [
    "### Combine into two data frames and create an age column in each"
   ]
  },
  {
   "cell_type": "code",
   "execution_count": null,
   "metadata": {
    "collapsed": false
   },
   "outputs": [],
   "source": [
    "cold = jan.append([feb, sept])\n",
    "hot = may.append([july, june])"
   ]
  },
  {
   "cell_type": "code",
   "execution_count": null,
   "metadata": {
    "collapsed": false
   },
   "outputs": [],
   "source": [
    "# Create age columns\n",
    "hot.age = 2015-hot['birth year'][(hot['usertype'] == 'Subscriber')]\n",
    "cold.age = 2015-cold['birth year'][(cold['usertype'] == 'Subscriber')]"
   ]
  },
  {
   "cell_type": "markdown",
   "metadata": {},
   "source": [
    "### Create Histogram to visually inspect data with NaN's"
   ]
  },
  {
   "cell_type": "code",
   "execution_count": null,
   "metadata": {
    "collapsed": false
   },
   "outputs": [],
   "source": [
    "#Plotting the info with a 10 year bin distribution\n",
    "bins = np.arange(10, 99, 10)\n",
    "hot.age.groupby(pd.cut(hot.age, bins)).agg([count_nonzero]).plot(kind='bar', title=\"Spring and Summer Trips\", grid=True, color = 'red')\n",
    "plt.xlabel('Age', fontsize=14, color='red')\n",
    "plt.ylabel('Number of Trips', fontsize=14, color='red')\n",
    "hot.age_dist = hot.age.groupby(pd.cut(hot.age, bins)).agg([count_nonzero])\n"
   ]
  },
  {
   "cell_type": "code",
   "execution_count": null,
   "metadata": {
    "collapsed": false
   },
   "outputs": [],
   "source": [
    "#Plotting the info with a 10 year bin distribution\n",
    "bins = np.arange(10, 99, 10)\n",
    "cold.age.groupby(pd.cut(cold.age, bins)).agg([count_nonzero]).plot(kind='bar', title=\"Winter and Fall Trips\", grid=True, color = 'blue')\n",
    "plt.xlabel('Age', fontsize=14, color='blue')\n",
    "plt.ylabel('Number of Trips', fontsize=14, color='blue')\n",
    "cold.age_dist = cold.age.groupby(pd.cut(cold.age, bins)).agg([count_nonzero])"
   ]
  },
  {
   "cell_type": "markdown",
   "metadata": {},
   "source": [
    "### Use KS and Anderson Test to asses a Normal Distirbution "
   ]
  },
  {
   "cell_type": "code",
   "execution_count": null,
   "metadata": {
    "collapsed": false
   },
   "outputs": [],
   "source": [
    "#Calculating KS statistic for a normal fit\n",
    "kscold=scipy.stats.kstest(cold.age_dist, 'norm')\n",
    "kshot=scipy.stats.kstest(hot.age_dist, 'norm')\n",
    "\n",
    "#Calculating anderson statistic for normal fit \n",
    "andersoncold = scipy.stats.anderson(cold.age.dropna(), dist='norm')\n",
    "andersonhot = scipy.stats.anderson(cold.age.dropna(), dist='norm')\n",
    "\n",
    "print \"Winter and Fall, Normal Fit, KS Test\", kscold\n",
    "print \"Winter and Fall, Normal Fit, Anderson Test\", andersoncold\n",
    "\n",
    "print \"Summer and Spring, Normal Fit KS Test\", kshot\n",
    "print \"Summer and Spring, Normal Fit, Anderson Test\", andersonhot"
   ]
  },
  {
   "cell_type": "markdown",
   "metadata": {},
   "source": [
    "Here, the KS Test produces a value of exactly 1 and a P value of exactly zero for both seasons.  This is worrisome.  The values are too precise.  Therefore, little credit is put into the result of the K-S tests.  To check, an Anderson Test was performed.  Here, the results were unambiguous.  A very high Anderson value was returned for both seasons.  This implies the critical values of the distributions don’t match.  This means we CANNOT reject the null hypothesis that the samples do NOT come from the same distribution.  We cannot make the claim the sample is normally distributed "
   ]
  },
  {
   "cell_type": "markdown",
   "metadata": {},
   "source": [
    "### Use KS Test to asses a Possion Fit"
   ]
  },
  {
   "cell_type": "code",
   "execution_count": null,
   "metadata": {
    "collapsed": false
   },
   "outputs": [],
   "source": [
    "#Calculating KS statistic for a Poisson fit\n",
    "ks_p_cold=scipy.stats.kstest(cold.age_dist, 'cauchy')\n",
    "ks_p_hot=scipy.stats.kstest(hot.age_dist, 'cauchy')\n",
    "\n",
    "print \"Winter and Fall, Possion Fit, KS Test\", ks_p_cold\n",
    "print \"Summer and Spring, Possion Fit, KS Test\", ks_p_hot"
   ]
  },
  {
   "cell_type": "markdown",
   "metadata": {},
   "source": [
    "Again, the K-S statistic is returning a P value of 0 and a KS statistic of 1.  This is not reasonable and the results of this test should not be trusted.  We cannot, from this test, make the claim that the samples are distributed with a Possion distribution.  "
   ]
  },
  {
   "cell_type": "markdown",
   "metadata": {},
   "source": [
    "### Use Anderson Test to assess a Exponential Fit"
   ]
  },
  {
   "cell_type": "code",
   "execution_count": null,
   "metadata": {
    "collapsed": false
   },
   "outputs": [],
   "source": [
    "#Calculating Anderson statistic for a Exponential fit\n",
    "anderson_exp_cold = scipy.stats.anderson(cold.age.dropna(), dist='expon')\n",
    "anderson_exp_hot = scipy.stats.anderson(cold.age.dropna(), dist='expon')\n",
    "\n",
    "print \"Winter and Fall, Exponential Fit, Anderson Test\", anderson_exp_cold\n",
    "print \"Summer and Spring, Exponential Fit, Anderson Test\", anderson_exp_hot"
   ]
  },
  {
   "cell_type": "markdown",
   "metadata": {},
   "source": [
    "An Anderson Test was performed to test the Exponential Distribution.  Here, the results were unambiguous.  A very high Anderson value was returned for both seasons.  This implies the critical values of the distributions don’t match.  This means we CANNOT reject the null hypothesis that the samples do NOT come from the same distribution.  We cannot make the claim the sample is exponentially distributed."
   ]
  }
 ],
 "metadata": {
  "kernelspec": {
   "display_name": "Python 2",
   "language": "python",
   "name": "python2"
  },
  "language_info": {
   "codemirror_mode": {
    "name": "ipython",
    "version": 2
   },
   "file_extension": ".py",
   "mimetype": "text/x-python",
   "name": "python",
   "nbconvert_exporter": "python",
   "pygments_lexer": "ipython2",
   "version": "2.7.10"
  }
 },
 "nbformat": 4,
 "nbformat_minor": 0
}
