{
 "cells": [
  {
   "cell_type": "markdown",
   "metadata": {},
   "source": [
    "Prinipals of Urban Infomatics\n",
    "Homework 5\n",
    "Assignment II\n",
    "By: Max Feinglass\n",
    "\n",
    "##GENDER INCOME GAP"
   ]
  },
  {
   "cell_type": "code",
   "execution_count": null,
   "metadata": {
    "collapsed": false
   },
   "outputs": [],
   "source": [
    "import pandas as pd\n",
    "import sys\n",
    "import os\n",
    "import numpy as np\n",
    "import pylab as pl\n",
    "import statsmodels.formula.api as smf\n",
    "import statsmodels.api as sm\n",
    "import json\n",
    "import os\n",
    "import scipy.stats as stats\n",
    "\n",
    "\n",
    "%pylab inline"
   ]
  },
  {
   "cell_type": "markdown",
   "metadata": {},
   "source": [
    "The Census data on income comes from a series of files posted for this class.  They can be found at  http://cosmo.nyu.edu/~fb55/UI_CUSP_2015/data.  Here I import it using panda's \"read excel\" function.  I excluded the 'all' racial categories, as I thought it would be redundant and skew the results of the further analysis by \"double counting\" certain relationships between sex, race, and pay."
   ]
  },
  {
   "cell_type": "markdown",
   "metadata": {},
   "source": [
    "First, I created a dictionary of all data pertaining to men and women respectively.  Then I populated each dictionary with the data for men and the data from women derived from the census.  "
   ]
  },
  {
   "cell_type": "code",
   "execution_count": null,
   "metadata": {
    "collapsed": false,
    "scrolled": false
   },
   "outputs": [],
   "source": [
    "url=\"http://cosmo.nyu.edu/~fb55/UI_CUSP_2015/data/\"\n",
    "#split your data by male and female, for example you can load the data into 2 disctionary. other variables may be relevant: for example race.\n",
    "#the names are not informative, and i am not giving you any meta data to find out what is in each file. \n",
    "# 08_2 files are male, 08_3 are female, and I am leaving in the lines of code that read the male files into races\n",
    "\n",
    "allmales={}\n",
    "allfemales={}\n",
    "#allmales['all']=pd.read_excel(url+'/pinc08_2_1_1.xls',header=9)#%s/pinc03_2_1_1.xls'%url, header=9)\n",
    "allmales['white']=pd.read_excel(url+'/pinc08_2_1_4.xls', header=9)\n",
    "allmales['black']=pd.read_excel(url+'/pinc08_2_1_6.xls', header=9)\n",
    "allmales['hispanic']=pd.read_excel(url+'/pinc08_2_1_9.xls', header=9)\n",
    "allmales['asian']=pd.read_excel(url+'/pinc08_2_1_8.xls', header=9)\n"
   ]
  },
  {
   "cell_type": "code",
   "execution_count": null,
   "metadata": {
    "collapsed": false
   },
   "outputs": [],
   "source": [
    "#allfemales['all']=pd.read_excel(url+'/pinc08_3_1_1.xls', header=9)\n",
    "allfemales['white']=pd.read_excel(url+'/pinc08_3_1_4.xls', header=9)\n",
    "allfemales['black']=pd.read_excel(url+'/pinc08_3_1_6.xls', header=9)\n",
    "allfemales['hispanic']=pd.read_excel(url+'/pinc08_3_1_9.xls', header=9)\n",
    "allfemales['asian']=pd.read_excel(url+'/pinc08_3_1_8.xls', header=9)"
   ]
  },
  {
   "cell_type": "markdown",
   "metadata": {},
   "source": [
    "I did not include the scatter matrix here as it took about 10 minutes to run on my machine.  But rest assured, run it did.  If you would to confirm than all one has to do is remove the comment below."
   ]
  },
  {
   "cell_type": "code",
   "execution_count": null,
   "metadata": {
    "collapsed": true
   },
   "outputs": [],
   "source": [
    "from pandas.tools.plotting import scatter_matrix\n",
    "#scatter_matrix(allmales['all'], s=300, figsize=(16, 16), diagonal='kde')"
   ]
  },
  {
   "cell_type": "markdown",
   "metadata": {},
   "source": [
    "These two loops remove the non-real numbers from our data.  First, a for loop parses each dictionary which are comprised of our different racial data, broken down by sex.  The nested loop parses each column of each race's data frame.  It checks to see if the column's non real sums are between 1 and 48.  If so, it replaces value with a 'NaN'.  If it is real, it codes that same value as a float."
   ]
  },
  {
   "cell_type": "code",
   "execution_count": null,
   "metadata": {
    "collapsed": false
   },
   "outputs": [],
   "source": [
    "for k in allmales:\n",
    "    nonreal  = allmales[k].applymap(np.isreal)\n",
    "    for c in allmales[k].columns :\n",
    "        if nonreal.sum()[c]>1 and nonreal.sum()[c]<49:\n",
    "            allmales[k][c][~nonreal[c]] = np.float('NaN')\n",
    "            allmales[k][c] = allmales[k][c].astype(float)\n",
    "            \n",
    "for k in allfemales:\n",
    "    nonreal  = allmales[k].applymap(np.isreal)\n",
    "    for c in allmales[k].columns :\n",
    "        if nonreal.sum()[c]>1 and nonreal.sum()[c]<49:\n",
    "            allmales[k][c][~nonreal[c]] = np.float('NaN')\n",
    "            allmales[k][c] = allmales[k][c].astype(float)\n",
    "\n",
    "\n",
    "    "
   ]
  },
  {
   "cell_type": "markdown",
   "metadata": {},
   "source": [
    "Again, the scatterplot takes about 10 minutes to run.  If you wish to see so, all you have to do is uncomment below."
   ]
  },
  {
   "cell_type": "code",
   "execution_count": null,
   "metadata": {
    "collapsed": true
   },
   "outputs": [],
   "source": [
    "#Scatter Matrix of all Males\n",
    "from pandas.tools.plotting import scatter_matrix\n",
    "#scatter_matrix(allmales['all'], s=300, figsize=(16, 16), diagonal='kde')"
   ]
  },
  {
   "cell_type": "code",
   "execution_count": null,
   "metadata": {
    "collapsed": true
   },
   "outputs": [],
   "source": [
    "#do the same for females\n",
    "#Scatter Matrix of all Males\n",
    "from pandas.tools.plotting import scatter_matrix\n",
    "#scatter_matrix(allfemales['all'], s=300, figsize=(16, 16), diagonal='kde')"
   ]
  },
  {
   "cell_type": "markdown",
   "metadata": {},
   "source": [
    "The next step involved pulling out the median incomes for each race, for each sex.  A for loop parsed every item in the women and men's racial dictionary and extracted the median income for that race.  It then stores that value in a new array, for each gender."
   ]
  },
  {
   "cell_type": "code",
   "execution_count": null,
   "metadata": {
    "collapsed": false
   },
   "outputs": [],
   "source": [
    "femalemedianincomes = []\n",
    "malemedianincomes =[]\n",
    "for i in allfemales:\n",
    "    femalemedianincomes.append(allfemales[i]['Median income'][1])\n",
    "\n",
    "for i in allmales:\n",
    "    malemedianincomes.append(allmales[i]['Median income'][1])\n",
    "    "
   ]
  },
  {
   "cell_type": "markdown",
   "metadata": {},
   "source": [
    "For plotting purposes, I created two arrays that will consistently label and plot races with a the same words and colors."
   ]
  },
  {
   "cell_type": "code",
   "execution_count": null,
   "metadata": {
    "collapsed": false,
    "scrolled": true
   },
   "outputs": [],
   "source": [
    "races = ['white', 'black', 'hispanic', 'asian']\n",
    "colors = ['blue','black','brown','pink']"
   ]
  },
  {
   "cell_type": "markdown",
   "metadata": {},
   "source": [
    "I plotted each point separately using a for loop to keep the formatting simple.  What came out was a scatter plot that compared men and women, of different races, income against one another."
   ]
  },
  {
   "cell_type": "code",
   "execution_count": null,
   "metadata": {
    "collapsed": false
   },
   "outputs": [],
   "source": [
    "pl.figure(figsize=(10,10))\n",
    "xlabel('Median Income of Men')\n",
    "ylabel('Median Income of Women')\n",
    "pl.xlim([0, 50000])\n",
    "pl.ylim([0, 50000])\n",
    "pl.title ('Median Income of Men and Women')\n",
    "\n",
    "for i in range(len(races)):\n",
    "    pl.scatter(malemedianincomes[i], femalemedianincomes[i], alpha = 1, s=80, color = colors[i], label = races[i])\n",
    "\n",
    "plot([0, 50000], [0, 50000], color = 'black', alpha = 1, label = \"45 Degree Line\")\n",
    "pl.plt.legend()\n"
   ]
  },
  {
   "cell_type": "markdown",
   "metadata": {},
   "source": [
    "One can see that the data all fall below the 45 degree line, closer to the men's axis.  This indicates that for each race, men make more than women.  However, the distance from the line, or the size of the income disparity, varies by race."
   ]
  },
  {
   "cell_type": "markdown",
   "metadata": {},
   "source": [
    "Next, I regressed male incomes, as the independent variable, against women's incomes using an ordinary least mean squares routine and plotted the resulting data.  Beware!  Any regression with just 4 data points is problematic due to low sample size.  "
   ]
  },
  {
   "cell_type": "code",
   "execution_count": null,
   "metadata": {
    "collapsed": false
   },
   "outputs": [],
   "source": [
    "data = pd.DataFrame({'X': malemedianincomes, 'Y': femalemedianincomes})\n",
    "model = smf.ols(formula = 'Y ~ X', data = data, missing = 'drop').fit()\n",
    "print \"Beta0 = \", model.params[0]\n",
    "print \"Beta1 = \", model.params[1]"
   ]
  },
  {
   "cell_type": "code",
   "execution_count": null,
   "metadata": {
    "collapsed": false
   },
   "outputs": [],
   "source": [
    "races = ['white', 'black', 'hispanic', 'asian']\n",
    "colors = ['blue','black','brown','pink']\n",
    "\n",
    "pl.figure(figsize=(10,10))\n",
    "xlabel('Median Income of Men')\n",
    "ylabel('Median Income of Women')\n",
    "pl.xlim([0, 50000])\n",
    "pl.ylim([0, 50000])\n",
    "pl.title ('Median Income of Men and Women')\n",
    "\n",
    "for i in range(len(races)):\n",
    "    pl.scatter(malemedianincomes[i], femalemedianincomes[i], alpha = 1, s=100, color = colors[i], label = races[i])\n",
    "\n",
    "x_axis = np.arange(0,50000, 1000)\n",
    "bestfit = (model.params[1]*x_axis)+model.params[0]\n",
    "plot(x_axis, bestfit, label = \"OLS Best Fit\")\n",
    "plot([0, 50000], [0, 50000], color = 'black', alpha = 1, label = \"45 degree line\")\n",
    "pl.plt.legend()"
   ]
  },
  {
   "cell_type": "markdown",
   "metadata": {},
   "source": [
    "Here, the OLS best fit line clearly shows that that, according to linear regression that men make more than women for salrieis above $15,000"
   ]
  },
  {
   "cell_type": "markdown",
   "metadata": {},
   "source": [
    "Next, the coefficients, Beta 0 and Beta 1, were solved for analytically."
   ]
  },
  {
   "cell_type": "code",
   "execution_count": null,
   "metadata": {
    "collapsed": false
   },
   "outputs": [],
   "source": [
    "cor = stats.spearmanr(malemedianincomes, femalemedianincomes)\n",
    "std(malemedianincomes)/std(femalemedianincomes)\n",
    "beta1=cor[0]*(std(femalemedianincomes)/std(malemedianincomes))\n",
    "beta0=mean(femalemedianincomes)-(beta1*mean(malemedianincomes))\n",
    "print \"Beta 1 = \", beta1\n",
    "print \"Beta 0 = \", beta0"
   ]
  },
  {
   "cell_type": "code",
   "execution_count": null,
   "metadata": {
    "collapsed": false
   },
   "outputs": [],
   "source": [
    "data = pd.DataFrame({'X': malemedianincomes, 'Y': femalemedianincomes})\n",
    "model = smf.ols(formula = 'Y ~ X', data = data, missing = 'drop').fit()\n",
    "print model.params[0]\n",
    "print model.params[1]"
   ]
  },
  {
   "cell_type": "code",
   "execution_count": null,
   "metadata": {
    "collapsed": false
   },
   "outputs": [],
   "source": [
    "races = ['white', 'black', 'hispanic', 'asian']\n",
    "colors = ['blue','black','brown','pink']\n",
    "\n",
    "pl.figure(figsize=(10,10))\n",
    "xlabel('Median Income of Men')\n",
    "ylabel('Median Income of Women')\n",
    "pl.xlim([0, 50000])\n",
    "pl.ylim([0, 50000])\n",
    "pl.title ('Median Income of Men and Women')\n",
    "\n",
    "for i in range(len(races)):\n",
    "    pl.scatter(malemedianincomes[i], femalemedianincomes[i], alpha = 1, s=100, color = colors[i], label = races[i])\n",
    "\n",
    "x_axis = np.arange(0,50000, 1000)\n",
    "bestfit = (model.params[1]*x_axis)+model.params[0]\n",
    "afit = (beta1*x_axis)+beta0\n",
    "plot(x_axis, bestfit, label = 'OLS Least Squares Fit')\n",
    "plot(x_axis, afit, color = 'r', label = 'Analytical Best Fit')\n",
    "plot([0, 50000], [0, 50000], color = 'black', alpha = 1, label = \"45 Degree Line\")     \n",
    "pl.plt.legend()\n",
    "\n"
   ]
  },
  {
   "cell_type": "markdown",
   "metadata": {},
   "source": [
    "The analytical solution turned in a line very similar to the regressed solutions.  This is something we would expect to see."
   ]
  },
  {
   "cell_type": "markdown",
   "metadata": {},
   "source": [
    "The next lines of code refuse to run on my system.  I check with other students and our T.A, Himanshu Kumawat, to try to figure out why.  After two hours of working with the T.A, we were both unable to figure out the reason for the code not functioning.  It is unaltered from the code given in the sample workbook and should, by all accounts run.  I hope I am not punished for not being able to debug something our TA was not able to help me with.  I will interpret the results from here out as best as I can."
   ]
  },
  {
   "cell_type": "markdown",
   "metadata": {},
   "source": [
    "This code removes all NaN's from the data and 'flattens' each array into a single column."
   ]
  },
  {
   "cell_type": "code",
   "execution_count": null,
   "metadata": {
    "collapsed": true
   },
   "outputs": [],
   "source": [
    "all_males = np.ma.array(np.concatenate([allmales['white']['Median income'][:].values,allmales['black']['Median income'][:].values,allmales['hispanic']['Median income'][:].values,allmales['asian']['Median income'][:].values]).flatten())\n",
    "\n",
    "all_females = np.ma.array(np.concatenate([allfemales['white']['Median income'][:].values,allfemales['black']['Median income'][:].values,allfemales['hispanic']['Median income'][:].values,allfemales['asian']['Median income'][:].values]).flatten())\n",
    "\n",
    "allmask = [np.isnan(all_males) + np.isnan(all_females)]\n",
    "\n",
    "all_females.mask = allmask\n",
    "all_males.mask = allmask"
   ]
  },
  {
   "cell_type": "markdown",
   "metadata": {},
   "source": [
    "I would have then run a regression of men vs women with this new enlarged data set.  "
   ]
  },
  {
   "cell_type": "code",
   "execution_count": null,
   "metadata": {
    "collapsed": true
   },
   "outputs": [],
   "source": [
    "rib = sm.add_constant(all_males[~all_males.mask])\n",
    "bigmodel = sm.OLS(all_females[~all_females.mask], rib)\n",
    "fit = bigmodel.fit()\n",
    "print fit.summary()\n",
    "alpha0 = fit.params[0]\n",
    "alpha1 = fit.aparms[1]"
   ]
  },
  {
   "cell_type": "markdown",
   "metadata": {},
   "source": [
    "Then, I would have plotted the new line of fit, which contains a lot more data, alongside our original OLS and analytical models."
   ]
  },
  {
   "cell_type": "code",
   "execution_count": null,
   "metadata": {
    "collapsed": true
   },
   "outputs": [],
   "source": [
    "races = ['white', 'black', 'hispanic', 'asian']\n",
    "colors = ['blue','black','brown','pink']\n",
    "\n",
    "pl.figure(figsize=(10,10))\n",
    "xlabel('Median Income of Men')\n",
    "ylabel('Median Income of Women')\n",
    "pl.xlim([0, 50000])\n",
    "pl.ylim([0, 50000])\n",
    "pl.title ('Median Income of Men and Women')\n",
    "\n",
    "for i in range(len(races)):\n",
    "    pl.scatter(malemedianincomes[i], femalemedianincomes[i], alpha = 1, s=100, color = colors[i], label = races[i])\n",
    "\n",
    "x_axis = np.arange(0,50000, 1000)\n",
    "bestfit = (model.params[1]*x_axis)+model.params[0]\n",
    "afit = (beta1*x_axis)+beta0\n",
    "bigfit = alpha1*x_axis)+alpha0\n",
    "plot(x_axis, bestfit, label = 'OLS Least Squares Fit')\n",
    "plot(x_axis, afit, color = 'r', label = 'Analytical Best Fit')\n",
    "plot(x_axis, bigfit, color = 'yo', label = 'Larger racial fit')\n",
    "plot([0, 50000], [0, 50000], color = 'black', alpha = 1, label = \"45 Degree Line\")     \n",
    "pl.plt.legend()"
   ]
  },
  {
   "cell_type": "markdown",
   "metadata": {},
   "source": [
    "For races sampled, median incomes is less than male median income for those of the same race.  White and Asian males have the highest income and make about half again as much as the women of their same race.  Black and Hispanic men have incomes relatively similar to white and Asian women.  At the bottom of the plot, black and Hispanic women earn the lowest wages of the groups studied.  The models that only used four data points are very sensitive.  They should not be trusted, for example, to show that women earn more than men below $15,000, which i believe is lower than minimum wage.  The larger sample size associated with the last regression should probably be waited by how many people participate in each sector.  For example, if very few black women work in the farm sector, the farm sector's data point when it comes to black women's income is proportionately skewing our overall picture of black female income."
   ]
  },
  {
   "cell_type": "markdown",
   "metadata": {},
   "source": [
    "I think you did not mean \"stipend\" which is formally 'unearned' income.  One way to give a stipend (and there are lots of other arguments for larger or smaller stipends) would be to give women a grant that would bring their income up to the 45 degree line.  This is interesting as it shows how much more women would need to be paid to meet men.  One could calculate a given's demographics distance from the 45 degree line and, say, give a tax break to women of that demographic that is proportional to the unequalness of their pay."
   ]
  },
  {
   "cell_type": "code",
   "execution_count": null,
   "metadata": {
    "collapsed": true
   },
   "outputs": [],
   "source": [
    "my_income = 1000000000\n",
    "women_income = my_income*alpha1 + alpha0\n",
    "print woman_income"
   ]
  },
  {
   "cell_type": "markdown",
   "metadata": {},
   "source": [
    "I am assuming you meant income.  My ideal income is a billion dollars.  1,000,000,000!  A woman in my position would make????  The last statstic I heard was 0.60 cents on the dollar.  So they would make mearly 600,000,000!"
   ]
  },
  {
   "cell_type": "code",
   "execution_count": null,
   "metadata": {
    "collapsed": true
   },
   "outputs": [],
   "source": [
    "#is the line fit similar? can you find any high legverage points?"
   ]
  }
 ],
 "metadata": {
  "kernelspec": {
   "display_name": "Python 2",
   "language": "python",
   "name": "python2"
  },
  "language_info": {
   "codemirror_mode": {
    "name": "ipython",
    "version": 2
   },
   "file_extension": ".py",
   "mimetype": "text/x-python",
   "name": "python",
   "nbconvert_exporter": "python",
   "pygments_lexer": "ipython2",
   "version": "2.7.10"
  }
 },
 "nbformat": 4,
 "nbformat_minor": 0
}
