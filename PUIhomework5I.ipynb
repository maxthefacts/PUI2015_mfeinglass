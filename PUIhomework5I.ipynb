{
 "cells": [
  {
   "cell_type": "markdown",
   "metadata": {},
   "source": [
    "Max Feinglass\n",
    "Principles of Urban Informatics\n",
    "Homework 5\n",
    "Assignment 1"
   ]
  },
  {
   "cell_type": "code",
   "execution_count": null,
   "metadata": {
    "collapsed": false
   },
   "outputs": [],
   "source": [
    "import sys\n",
    "import geopandas as gp\n",
    "import pandas as pd\n",
    "import fiona\n",
    "import os\n",
    "import json\n",
    "import pylab as pl\n",
    "import statsmodels.formula.api as smf\n",
    "#s = json.load( open(os.getenv('PUI2015')+'/fbb_matplotlibrc.json') )\n",
    "#pl.rcParams.update(s)\n",
    "%pylab inline\n",
    "\n"
   ]
  },
  {
   "cell_type": "markdown",
   "metadata": {},
   "source": [
    "Import Local Law 84 Building Benchmarking data for City of New York from: https://data.cityofnewyork.us/Environment/Energy-and-Water-Data-Disclosure-for-Local-Law-84-/rgfe-8y2z"
   ]
  },
  {
   "cell_type": "code",
   "execution_count": null,
   "metadata": {
    "collapsed": false,
    "scrolled": true
   },
   "outputs": [],
   "source": [
    "nrg = gp.GeoDataFrame.from_csv(os.path.expandvars('$PUI2015/Energy_and_Water_Data_Disclosure_for_Local_Law_84__2013_.csv'))"
   ]
  },
  {
   "cell_type": "markdown",
   "metadata": {},
   "source": [
    "Import PLUTO shapefile for the City of New York from http://cosmo.nyu.edu/~fb55/UI_CUSP_2015/data/mn_mappluto_15v1.zip.  Extract the zip file and import MNMapPLUTO.shp."
   ]
  },
  {
   "cell_type": "code",
   "execution_count": null,
   "metadata": {
    "collapsed": false
   },
   "outputs": [],
   "source": [
    "bsize = gp.GeoDataFrame.from_file(os.path.expandvars(\"$PUI2015/MNMapPLUTO.shp\"))"
   ]
  },
  {
   "cell_type": "markdown",
   "metadata": {},
   "source": [
    "Plot a scatter Matrix to examine the data and determine where holes exist."
   ]
  },
  {
   "cell_type": "code",
   "execution_count": null,
   "metadata": {
    "collapsed": false
   },
   "outputs": [],
   "source": [
    "from pandas.tools.plotting import scatter_matrix\n",
    "scatter_matrix (nrg, s=300, figsize=(16, 16), diagonal='kde')"
   ]
  },
  {
   "cell_type": "markdown",
   "metadata": {},
   "source": [
    "Create function to identify every time an entry in the LL84 Data canNOT be turned into a floating point.  Create an array, the size of the LL84 data, that flags these instances.  Then covert all the non-convertible entries into \"NaN\"."
   ]
  },
  {
   "cell_type": "code",
   "execution_count": null,
   "metadata": {
    "collapsed": false
   },
   "outputs": [],
   "source": [
    "def canconvert(mydata):\n",
    "    try :\n",
    "        float(mydata)\n",
    "        return True\n",
    "    except ValueError:\n",
    "        return False    "
   ]
  },
  {
   "cell_type": "code",
   "execution_count": null,
   "metadata": {
    "collapsed": false
   },
   "outputs": [],
   "source": [
    "#create the indeces array here\n",
    "vfunc = np.vectorize(canconvert)\n",
    "indx = vfunc(nrg['Site EUI(kBtu/ft2)'])\n",
    "indx2 = vfunc(nrg['Reported Property Floor Area (Building(s)) (ft²)'])"
   ]
  },
  {
   "cell_type": "code",
   "execution_count": null,
   "metadata": {
    "collapsed": false
   },
   "outputs": [],
   "source": [
    "nrg['Site EUI(kBtu/ft2)'][~indx]=float('NaN')\n",
    "nrg['Reported Property Floor Area (Building(s)) (ft²)'][~indx2]=float('NaN')"
   ]
  },
  {
   "cell_type": "markdown",
   "metadata": {},
   "source": [
    "Create a column that can act as a common 'key' between the LL84 data and the PLUTO data.  This will allow us to 'join' one data set on the other consistently.  Within this merged data frame, change the 'SITE EUI' and 'Floor' data into floats, and then multiply the EUI value by the floor space value to yield a total energy consumption value."
   ]
  },
  {
   "cell_type": "code",
   "execution_count": null,
   "metadata": {
    "collapsed": false
   },
   "outputs": [],
   "source": [
    "nrg['BBL'] = nrg['NYC Borough, Block, and Lot (BBL)']\n",
    "\n",
    "bblnrgdata = pd.merge(nrg, bsize, on=['BBL'])\n",
    "\n",
    "bblnrgdata['Site EUI(kBtu/ft2)'] = bblnrgdata['Site EUI(kBtu/ft2)'].astype(float)\n",
    "bblnrgdata['Reported Property Floor Area (Building(s)) (ft²)'] = bblnrgdata['Reported Property Floor Area (Building(s)) (ft²)'].astype(float)\n",
    "\n",
    "bblnrgdata['energy_total'] = bblnrgdata['Site EUI(kBtu/ft2)'] * bblnrgdata['Reported Property Floor Area (Building(s)) (ft²)']"
   ]
  },
  {
   "cell_type": "markdown",
   "metadata": {},
   "source": [
    "Segment the data so that we are only looking at buildings that use more than 1000 kBTU's and have more than 5 units (but less than a thosuand units).  "
   ]
  },
  {
   "cell_type": "code",
   "execution_count": null,
   "metadata": {
    "collapsed": false
   },
   "outputs": [],
   "source": [
    "bblnrgdata_cut = bblnrgdata[(bblnrgdata.energy_total > 1000) &\n",
    "                            (bblnrgdata.energy_total < 1e10) & \n",
    "                            (bblnrgdata.UnitsTotal > 5) & \n",
    "                            (bblnrgdata.UnitsTotal < 1000)]"
   ]
  },
  {
   "cell_type": "markdown",
   "metadata": {},
   "source": [
    "Now we plot the total amount of energy used by each building against the total number of units in each building.  The bunching of the data makes using log scaling an attractive way of visualizing the data."
   ]
  },
  {
   "cell_type": "code",
   "execution_count": null,
   "metadata": {
    "collapsed": false
   },
   "outputs": [],
   "source": [
    "fig = plt.figure(figsize=(10, 10))\n",
    "ax = fig.add_subplot(1, 1, 1)\n",
    "ax.set_yscale('log')\n",
    "ax.set_xscale('log')\n",
    "ax.set_xlabel('Total Units per Building')\n",
    "ax.set_ylabel('Total Energy Consumption per Building')\n",
    "ax.set_title('Yearly Energy Consumption by Buildings in New York City')\n",
    "plt.xlim(1,1500)\n",
    "plt.ylim(1000,1e10)\n",
    "plt.scatter(bblnrgdata_cut['UnitsTotal'], bblnrgdata_cut['energy_total']) "
   ]
  },
  {
   "cell_type": "markdown",
   "metadata": {},
   "source": [
    "Now regress the independent variable, the units in the building, against a the dependent variable, yearly energy consumption using an ordinary least squares method.  This creates a model that can predict energy consumption by the unit count in a given building. "
   ]
  },
  {
   "cell_type": "code",
   "execution_count": null,
   "metadata": {
    "collapsed": false
   },
   "outputs": [],
   "source": [
    "x = np.log10(bblnrgdata_cut['UnitsTotal'])\n",
    "y = np.log10(bblnrgdata_cut['energy_total'])\n",
    "\n",
    "data = pd.DataFrame({'x':x, 'y':y})\n",
    "data.x = data.x.replace([np.inf, -np.inf], np.nan)\n",
    "data.y = data.y.replace([np.inf, -np.inf], np.nan)\n",
    "\n",
    "model = smf.ols(formula = 'y ~ x', data = data, missing = 'drop').fit()\n",
    "print model.summary()"
   ]
  },
  {
   "cell_type": "markdown",
   "metadata": {},
   "source": [
    "The result is a model with low P-Values and reasonable T-Scores.  The R^2 statistic lets us know unit size explains about 12% of energy use.  Now we would like to plot that line of best fit on our scatter plot."
   ]
  },
  {
   "cell_type": "code",
   "execution_count": null,
   "metadata": {
    "collapsed": true
   },
   "outputs": [],
   "source": [
    "idx = np.isfinite(data.x) & np.isfinite(data.y)\n",
    "m, b = np.polyfit(data.x[idx], data.y[idx], 1)\n",
    "\n",
    "fig = plt.figure(figsize=(10, 10))\n",
    "plt.plot(x, y, 'r', x, m*x+b, 'b', linewidth = '3')\n",
    "plt.xlabel('Total Number of Units Per Building')\n",
    "plt.ylabel('Total Energy Consumed in One Year')\n",
    "plt.title('OLS Model of Building Energy Consumption Based on Unit Count')"
   ]
  },
  {
   "cell_type": "markdown",
   "metadata": {},
   "source": [
    "Now we switch the dependent and independent variable assignments to see if this creates a better model.  Since we are comparing a space with only 2 variables, we should see no change in how one variable's relationship affects the others.  We would expect all relevant regression statistics to remain the same."
   ]
  },
  {
   "cell_type": "code",
   "execution_count": null,
   "metadata": {
    "collapsed": false
   },
   "outputs": [],
   "source": [
    "y = np.log10(bblnrgdata_cut['UnitsTotal'])\n",
    "x = np.log10(bblnrgdata_cut['energy_total'])\n",
    "\n",
    "data = pd.DataFrame({'x':x, 'y':y})\n",
    "data.x = data.x.replace([np.inf, -np.inf], np.nan)\n",
    "data.y = data.y.replace([np.inf, -np.inf], np.nan)\n",
    "data.to_csv('regress.csv')\n",
    "\n",
    "model = smf.ols(formula = 'y ~ x', data = data, missing = 'drop').fit()\n",
    "print model.summary()"
   ]
  },
  {
   "cell_type": "code",
   "execution_count": null,
   "metadata": {
    "collapsed": false
   },
   "outputs": [],
   "source": [
    "idx = np.isfinite(data.x) & np.isfinite(data.y)\n",
    "m, b = np.polyfit(data.x[idx], data.y[idx], 1)\n",
    "\n",
    "fig = plt.figure(figsize=(10, 10))\n",
    "plt.plot(x, y, 'r', x, m*x+b, 'b', linewidth = '5')\n",
    "plt.ylabel('Total Units')\n",
    "plt.xlabel('Total Energy')\n",
    "plt.title('Total Units vs Total Energy')"
   ]
  },
  {
   "cell_type": "markdown",
   "metadata": {},
   "source": [
    "As expected, neither arrangement of dependent and independent variables changes the ordinary least squares model.  The R^2 value remains .139 for each model.  This also implies it is impossible to a likelihood ratio test because the parameters of the models would be identical.  That does not allow sufficient degrees of freedom for a meaningful test."
   ]
  },
  {
   "cell_type": "markdown",
   "metadata": {},
   "source": [
    "Now create a \"polyfit\" line that uses a second linear line to create a \"model within a model\".  Instead of a single linear line that minimizes the loss function, here two lines are created in different parts of the domain to minimize different portions of the data.  This should produce a better model as it will 'pass through' more of the data, and therefore explain more of the correlation."
   ]
  },
  {
   "cell_type": "code",
   "execution_count": null,
   "metadata": {
    "collapsed": true
   },
   "outputs": [],
   "source": [
    "x = np.log10(bblnrgdata_cut['UnitsTotal'])\n",
    "y = np.log10(bblnrgdata_cut['energy_total'])\n",
    "\n",
    "data = pd.DataFrame({'x':x, 'y':y})\n",
    "data.x = data.x.replace([np.inf, -np.inf], np.nan)\n",
    "data.y = data.y.replace([np.inf, -np.inf], np.nan)\n",
    "\n",
    "idx = np.isfinite(data.x) & np.isfinite(data.y)\n",
    "b2, b1, b0 = np.polyfit(data.x[idx], data.y[idx], 2)"
   ]
  },
  {
   "cell_type": "code",
   "execution_count": null,
   "metadata": {
    "collapsed": false
   },
   "outputs": [],
   "source": [
    "x_dum = np.array([1, 2, 3])\n",
    "y_star = b2 * x_dum ** 2 + b1 * x_dum + b0\n",
    "\n",
    "fig = plt.figure(figsize=(10, 10))\n",
    "pl.plot(x_dum, y_star, 'yo', linewidth = '5')\n",
    "pl.scatter(x,y)\n",
    "pl.xlabel('Units Per Building')\n",
    "pl.ylabel('Energy Consumption by Building')\n",
    "pl.title('Polyline Model of Building Energy Consumption')"
   ]
  },
  {
   "cell_type": "code",
   "execution_count": null,
   "metadata": {
    "collapsed": false
   },
   "outputs": [],
   "source": [
    "model = smf.ols(formula='y ~ x + I(x**2)', data = data)\n",
    "fit = model.fit()\n",
    "fit.summary()"
   ]
  },
  {
   "cell_type": "markdown",
   "metadata": {},
   "source": [
    "Indeed, as we excepted, this model is a better fit to our data, due to the multiple lines being closer to our data.  The R^2 of 0.238 is better than the single line’s R^2 model of 0.139.  In addition, the adjusted R^2 being similar to the R^2 indicates that the addition of second linear line was a meaningful contribution to explaining the energy use.  The likelihood test is now possible as the two lines present us with an adjustable degree of freedom.  "
   ]
  },
  {
   "cell_type": "markdown",
   "metadata": {},
   "source": [
    "I wanted to keep this last graph in, just beacuse it looked so cool!"
   ]
  },
  {
   "cell_type": "code",
   "execution_count": null,
   "metadata": {
    "collapsed": false
   },
   "outputs": [],
   "source": [
    "bblnrgdata_cut['YearBuilt'][bblnrgdata_cut['YearBuilt'] < 1800] = 1800\n",
    "\n",
    "bblnrgdata_cut.plot(kind='scatter',x='energy_total',\n",
    "                    y='UnitsTotal', fontsize=22, colormap='gnuplot2', \n",
    "                    alpha = 1, marker='o',  figsize=(16, 14), loglog=True,  \n",
    "                    xlim=(1000,1e11), ylim=(1,1000), c=bblnrgdata_cut['YearBuilt']-1900, \n",
    "                    s=bblnrgdata_cut['UnitsTotal']/bblnrgdata_cut['UnitsRes']*100)"
   ]
  }
 ],
 "metadata": {
  "kernelspec": {
   "display_name": "Python 2",
   "language": "python",
   "name": "python2"
  },
  "language_info": {
   "codemirror_mode": {
    "name": "ipython",
    "version": 2
   },
   "file_extension": ".py",
   "mimetype": "text/x-python",
   "name": "python",
   "nbconvert_exporter": "python",
   "pygments_lexer": "ipython2",
   "version": "2.7.10"
  }
 },
 "nbformat": 4,
 "nbformat_minor": 0
}
