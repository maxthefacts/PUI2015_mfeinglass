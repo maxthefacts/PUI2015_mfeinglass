{
 "cells": [
  {
   "cell_type": "code",
   "execution_count": null,
   "metadata": {
    "collapsed": false,
    "scrolled": true
   },
   "outputs": [],
   "source": [
    "import os\n",
    "import sys\n",
    "import numpy as np\n",
    "import pylab as pl\n",
    "\n",
    "\n",
    "%pylab inline\n"
   ]
  },
  {
   "cell_type": "markdown",
   "metadata": {},
   "source": [
    "# Former inmate was or was not ever employed in a CEO transitional job 3 years after release "
   ]
  },
  {
   "cell_type": "code",
   "execution_count": null,
   "metadata": {
    "collapsed": false
   },
   "outputs": [],
   "source": [
    "alpha =.05\n",
    "\n",
    "#Control group\n",
    "P_0= .01*52.1\n",
    "\n",
    "#Program Group\n",
    "P_1= .01* 53.3\n",
    "\n",
    "n_0=409\n",
    "n_1=568\n",
    "\n",
    "p0count= P_0 * n_0\n",
    "p1count= P_1 *n_1\n",
    "\n",
    "sp=(P_0*n_0+P_1*n_1)/(n_1+n_0)\n",
    "sp_stdev= lambda p, n: np.sqrt( p * ( 1 - p ) /n[0] +  p * ( 1 - p )/n[1]  )\n",
    "sp_stdev_2y=sp_stdev((p0count+p1count)/(n_0+n_1),[n_0,n_1])\n",
    "print P_0, n_0, n_1, sp_stdev_2y\n",
    "\n",
    "p_2y=1-0.9998\n",
    "\n",
    "\n",
    "def report_result(p,a):\n",
    "    print 'is the p value {0:.2f} smaller than the critical value {1:.2f}? '.format(p,a)\n",
    "    if p<a:\n",
    "        print \"YES!\"\n",
    "    else: print \"NO!\"\n",
    "    \n",
    "    print 'the Null hypothesis is {}'.format( 'rejected' if p<a  else 'not rejected') \n",
    "\n",
    "    \n",
    "report_result(p_2y,alpha)\n",
    "\n",
    "\n",
    "\n",
    "\n",
    "#z_3y = ...\n"
   ]
  },
  {
   "cell_type": "markdown",
   "metadata": {},
   "source": [
    "# The $\\chi^2$ test"
   ]
  },
  {
   "cell_type": "markdown",
   "metadata": {},
   "source": [
    "|employed in subsadized job |     employed   | not employes   |                   \n",
    "|---------------------------|----------------|------------------|---------------------------|\n",
    "| test sample               |     |      | 564                       |\n",
    "| control sample            |    |      | 409                       |\n",
    "|                           |                |                  |                           |\n",
    "| total                     |        |           | 973         |"
   ]
  },
  {
   "cell_type": "code",
   "execution_count": null,
   "metadata": {
    "collapsed": false
   },
   "outputs": [],
   "source": [
    "Ntot = 973\n",
    "expected = 131.59*564*409*790.232\n",
    "sample_values = [[.147*564,(1-.147)*564],[.119*409, (1-.119)*409]]\n",
    "                \n",
    "\n",
    "chisqstat = (Ntot*(((82.908*360.32)-(429.912*48.671))**2))/expected\n",
    "print 'Chi Square Score is equal to ', chisqstat\n",
    "    "
   ]
  },
  {
   "cell_type": "markdown",
   "metadata": {},
   "source": [
    "The chi squared score of 3.249, with one degree of freedom, is less than the 3.84 threshold for a significance level of .05 according to the attached table.  We therefore fail to reject the null hypothesis, which here, is that the job training is NOT effective at keeping folks employed for 6 months at a time.  The implication is that the paper does not support the expansion of this program as an effective way help folks stay employed for 6 months. "
   ]
  }
 ],
 "metadata": {
  "kernelspec": {
   "display_name": "Python 2",
   "language": "python",
   "name": "python2"
  },
  "language_info": {
   "codemirror_mode": {
    "name": "ipython",
    "version": 2
   },
   "file_extension": ".py",
   "mimetype": "text/x-python",
   "name": "python",
   "nbconvert_exporter": "python",
   "pygments_lexer": "ipython2",
   "version": "2.7.10"
  }
 },
 "nbformat": 4,
 "nbformat_minor": 0
}
